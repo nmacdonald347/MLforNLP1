{
  "nbformat": 4,
  "nbformat_minor": 0,
  "metadata": {
    "colab": {
      "private_outputs": true,
      "provenance": [],
      "include_colab_link": true
    },
    "kernelspec": {
      "name": "python3",
      "display_name": "Python 3"
    }
  },
  "cells": [
    {
      "cell_type": "markdown",
      "metadata": {
        "id": "view-in-github",
        "colab_type": "text"
      },
      "source": [
        "<a href=\"https://colab.research.google.com/github/nmacdonald347/MLforNLP1/blob/main/%5BCompSem%5D_PL_model_checking_%26_building.ipynb\" target=\"_parent\"><img src=\"https://colab.research.google.com/assets/colab-badge.svg\" alt=\"Open In Colab\"/></a>"
      ]
    },
    {
      "cell_type": "markdown",
      "metadata": {
        "id": "cHzbYf3IAkXo"
      },
      "source": [
        "# Goals:\n",
        "*   First, you have to implement model *checking* functions for **Propositional Logic**, that automatically compute, for any formula and any model, the truth value of this formula in this model.\n",
        "*   Then, you have toll implement model *building* functions, that compute, for any formula, which models make this formula true."
      ]
    },
    {
      "cell_type": "markdown",
      "source": [
        "# This is part of an assignment\n",
        "*   This Colab notebook contains the first part of the assignment.\n",
        "*   The assignment should be completed in group of two or three students.\n",
        "*   Students repeating the year (\"redoublant·e·s\") do not have to complete this assignment (but another one later in the semester).\n",
        "*   Your grade will depend in part on your code and in part on a short oral examination (a single examination for the whole assignment). To schedule an appointment, follow this link: https://appt.link/timothee-bernard/computational-semantics-igao5C1P.\n",
        "*   Send me an email (timothee.m.r.bernard@gmail.com) by Sunday **11th February 23:59** to inform me of the composition of your group. By this time, your group should also have scheduled an appointment for the oral examination. Malus: -2 per day of delay.\n",
        "*   Send me your work (both parts) completed by Sunday **18th February 23:59**. Malus: -1 per day of delay.\n",
        "*   Make sure that your code is clear and well commented. **The quality of your code will be taken into account.**\n",
        "*   **Read all comments and follow all instructions very carefully.** If you do not understand one of them, ask me. Also, remember that everything (each method, its argument·s, etc.) is here for a reason.\n",
        "*   Any source of inspiration (e.g. the internet, some other student) should be properly acknowledged."
      ],
      "metadata": {
        "id": "txmEBOzElCWG"
      }
    },
    {
      "cell_type": "markdown",
      "source": [
        "# How to work efficiently with Colab on this project:\n",
        "*   Copy this notebook (File>Save a copy in Drive).\n",
        "*   In class, your group can be more efficient if each member works on their own copy: everyone can try to find a solution in parallel before sharing what works with the others.\n",
        "*   At some point (when most of the problems have been solved), you might want to use a single Colab notebook for the whole group. You can share your copy with your collaborators using the sharing menu.\n",
        "*   Every member of the group should review everyone else's code and try to improve it (simplification, bug fixing, addition of comments, etc.)."
      ],
      "metadata": {
        "id": "JwmsNN-jwKMf"
      }
    },
    {
      "cell_type": "markdown",
      "source": [
        "# How to send me your work:\n",
        "*   Use the sharing menu (top-right of the window) to share it with timothee.m.r.bernard@gmail.com.\n",
        "(I don't check this address very often, so, for questions, please use Moodle or my u-paris.fr address.)\n",
        "*   You are asked to share me both parts of the assignment. (So, two notebooks in total for your group.)\n",
        "*   Review your code before sharing it with me, in order to check that is is clear, concise and well commented. Also, execute it once again *from scratch* to make sure that I do not need to tinker with you code to execute it."
      ],
      "metadata": {
        "id": "ch5msnyAwMfA"
      }
    },
    {
      "cell_type": "markdown",
      "source": [
        "# Remarks:\n",
        "*  The code you will find here uses tabulations for indentation. Please be aware of the fact that Python might not behave correctly if you use a mix of tabulations and spaces for indentation. There is a way to set Colab's settings so that the type of characters used for indentation is shown.\n",
        "*  Pay attention to every single instruction and comment. Not following one of them would surely leads to unecessary complexity. In particular, make sure that all of your functions return objects of the expected types.\n",
        "*  Make sure that what you print is self-explanatory (one should not have to look at the code to understand what is printed).\n",
        "*  Test extensively every function that you implement. The tests should put your code under \"intense stress\". The goal is to detect bugs as early as possible.\n",
        "*  It is usually a bad idea to try to implement advanced ones before the basic features work properly, in part because often the advanced features cannot work if the basic ones do not. If you have trouble with basic features, call for help.\n",
        "*  Please remember these remarks for all future assignments.\n",
        "\n",
        "(This advice is relevant to all assignments, for other courses as well as this one.)"
      ],
      "metadata": {
        "id": "Fwg1w-JJvzJA"
      }
    },
    {
      "cell_type": "code",
      "metadata": {
        "id": "iyt7crDHAbcS"
      },
      "source": [
        "# Checks that `o` is an instance of `t` (ex: integer, list). Produces a clear error message otherwise.\n",
        "# This function is not essential but can help a lot for debugging.\n",
        "def check_type(o, t, name=None):\n",
        "\tif(name is None): name = \"[no name]\"\n",
        "\tassert isinstance(o, t), (f\"Type problem: variable {name} (type: {type(o)}; value: {o}) is not an instance of {t}\")"
      ],
      "execution_count": null,
      "outputs": []
    },
    {
      "cell_type": "code",
      "metadata": {
        "id": "Zm0uCqezAr7x"
      },
      "source": [
        "# Example 1:\n",
        "check_type([1,2,3], list) # Works fine because [1,2,3] is indeed a list."
      ],
      "execution_count": null,
      "outputs": []
    },
    {
      "cell_type": "code",
      "metadata": {
        "id": "vldi91e7AvZe"
      },
      "source": [
        "# Example 2:\n",
        "check_type(1, list) # An AssertionError exception is raised because 1 is not a list."
      ],
      "execution_count": null,
      "outputs": []
    },
    {
      "cell_type": "markdown",
      "metadata": {
        "id": "o9xR9BHHDCXV"
      },
      "source": [
        "## 1) Model checking"
      ]
    },
    {
      "cell_type": "markdown",
      "source": [],
      "metadata": {
        "id": "S34kaaaUaThT"
      }
    },
    {
      "cell_type": "markdown",
      "metadata": {
        "id": "3TTTWADTBQCU"
      },
      "source": [
        "*   In Propositional Logic, a model is simply an interpretation function.\n",
        "*   An interpretation function is a function that sends each propositional letter to a boolean value.\n",
        "*   In this TP, strings are used to represent propositional letters.\n",
        "*   Remark: The properties and methods of a class that have a name starting with an underscore (\"_\"; ex: `self._true_ps`) are not meant to be accessed directly outside of this class, but only within the class itself (in other words, they are *private*). While Python will not say anything special if you do not respect this convention, you definitely should.\n",
        "*   Remark: You will see methods called \"\\_\\_str__\" and \"\\_\\_repr__\"; please ignore them, they will be used automatically by Python when relevant. To know more, search for \"magic functions Python\" on the internet.\n"
      ]
    },
    {
      "cell_type": "code",
      "metadata": {
        "id": "F2KPsMZoA6h_"
      },
      "source": [
        "# For interpretation functions.\n",
        "class InterpretationFunc:\n",
        "\t# true_ps: set of strings\n",
        "\tdef __init__(self, true_ps):\n",
        "\t\tcheck_type(true_ps, set, \"true_ps\")\n",
        "\n",
        "\t\tself._true_ps = true_ps\n",
        "\n",
        "\t# Remark: __call__ can be called using the ()-notation: \"i(p)\" is translated as \"i.__call__(p)\". Use the ()-notation instead of calling __call__ explicitly.\n",
        "\t# Returns the interpretation of `p`.\n",
        "\t# p: string\n",
        "\tdef __call__(self, p):\n",
        "\t\tcheck_type(p, str, \"p\")\n",
        "\n",
        "\t\treturn (p in self._true_ps)\n",
        "\n",
        "\t# Returns a string representation of the object. Used to print the object in a readable way.\n",
        "\tdef __str__(self):\n",
        "\t\treturn str(self._true_ps)"
      ],
      "execution_count": null,
      "outputs": []
    },
    {
      "cell_type": "markdown",
      "metadata": {
        "id": "bLY05s0qBb45"
      },
      "source": [
        "# Instructions\n",
        "*  Using the class defined above, instantiate `i_func`, the interpretation function that associates True to both \"p\" and \"r\" and False to any other propositional letter.\n",
        "*  Then, print the interpretation of \"p\" and \"q\" respectively."
      ]
    },
    {
      "cell_type": "code",
      "metadata": {
        "id": "3dejL-QXBXdA"
      },
      "source": [],
      "execution_count": null,
      "outputs": []
    },
    {
      "cell_type": "markdown",
      "metadata": {
        "id": "feWX1b1YBkK_"
      },
      "source": [
        "*  For this TP, any formula is represented by an instance of the class `Formula` (in fact, of some sub-class of `Formula`).\n",
        "*  There is one sub-class for each \"kind\" of formulas, that is to say for each clause in the inductive definition of the language of PL.\n",
        "*  You do not have to modify the `Formula` class directly, but you should execute the following piece of code in order to make the system know that the class exists."
      ]
    },
    {
      "cell_type": "code",
      "metadata": {
        "id": "-0B_nqT2Bqmq"
      },
      "source": [
        "# The general class for logical formulas.\n",
        "# This class is sub-classed below.\n",
        "class Formula:\n",
        "\tpass;"
      ],
      "execution_count": null,
      "outputs": []
    },
    {
      "cell_type": "markdown",
      "metadata": {
        "id": "NhYW2jGnBvau"
      },
      "source": [
        "# Instructions\n",
        "*  `PLetter` is the sub-class corresponding to formulas composed of a single propositional letter (1st clause in the definition of the language of PL).\n",
        "*  Complete `PLetter.check`.\n",
        "*  Then, instantiate three formulas, composed of propositional letters \"p\", \"q\" and \"r\" respectively, and print their interpretation according to `i_func`.\n",
        "*  (Ignore the `build` method, which will only be useful in the second section below.)"
      ]
    },
    {
      "cell_type": "code",
      "metadata": {
        "id": "f4Lff_4OBswk"
      },
      "source": [
        "# For atomic formulas (i.e. that are composed of a single propositional letter only).\n",
        "class PLetter(Formula): # This means that PLetter is a subclass of Formula (i.e. that any instance of PLetter should be considered an instance of Formula).\n",
        "\t# p: string\n",
        "\tdef __init__(self, p):\n",
        "\t\tcheck_type(p, str, \"p\")\n",
        "\n",
        "\t\tself._p = p\n",
        "\n",
        "\t# Checks whether the formula is true according to the interpretation function `i_func`. This should mirror the definition of the valuation of PL.\n",
        "\t# i_func: InterpretationFunc\n",
        "\tdef check(self, i_func):\n",
        "\t\tcheck_type(i_func, InterpretationFunc, \"i_func\")\n",
        "\n",
        "\t\tpass # TODO\n",
        "\n",
        "\t# Returns the list of all (minimal) partial interpretation functions for which the valuation of the formula is the boolean value `value`.\n",
        "\t# If `value` is not specified, the default value True is used.\n",
        "\t# (If you know what an iterator is, you can return an iterator instead of a list.)\n",
        "\tdef build(self, value=True):\n",
        "\t\tcheck_type(value, bool, \"value\")\n",
        "\n",
        "\t\tpass # TODO\n",
        "\n",
        "\t# Returns a string representation of the object. Used to print the object in a readable way.\n",
        "\tdef __str__(self):\n",
        "\t\treturn self._p"
      ],
      "execution_count": null,
      "outputs": []
    },
    {
      "cell_type": "code",
      "source": [],
      "metadata": {
        "id": "EoPZbYmjUYGD"
      },
      "execution_count": null,
      "outputs": []
    },
    {
      "cell_type": "markdown",
      "metadata": {
        "id": "vd8kcw02CIdA"
      },
      "source": [
        "# Instructions\n",
        "*  Complete `Neg.check`. Tip: Take a look again at the slide that contains the definition of valuation functions in PL.\n",
        "*  Using `Neg`, instantiate several formulas and print their interpretation according to `i_func`. (Advice: Instantiate enough formulas to check that everything works as expected.)"
      ]
    },
    {
      "cell_type": "code",
      "metadata": {
        "id": "nbt857c6CFV_"
      },
      "source": [
        "# Negation\n",
        "class Neg(Formula):\n",
        "\t# phi: Formula\n",
        "\tdef __init__(self, phi):\n",
        "\t\tcheck_type(phi, Formula, \"phi\")\n",
        "\n",
        "\t\tself._phi = phi;\n",
        "\n",
        "\t# Checks whether the formula is true according to the interpretation function `i_func`. This should mirror the definition of the valuation of PL.\n",
        "\t# i_func: InterpretationFunc\n",
        "\tdef check(self, i_func):\n",
        "\t\tcheck_type(i_func, InterpretationFunc, \"i_func\")\n",
        "\n",
        "\t\tpass # TODO\n",
        "\n",
        "\t# Returns the list of all (minimal) partial interpretation functions for which the valuation of the formula is the boolean value `value`.\n",
        "\t# If `value` is not specified, the default value True is used.\n",
        "\t# (If you know what an iterator is, you can return an iterator instead of a list.)\n",
        "\tdef build(self, value=True):\n",
        "\t\tcheck_type(value, bool, \"value\")\n",
        "\n",
        "\t\tpass # TODO\n",
        "\n",
        "\t# Returns a string representation of the object. Used to print the object in a readable way.\n",
        "\tdef __str__(self):\n",
        "\t\treturn f'(¬{self._phi})'"
      ],
      "execution_count": null,
      "outputs": []
    },
    {
      "cell_type": "code",
      "source": [],
      "metadata": {
        "id": "nEdjKv4YUWWW"
      },
      "execution_count": null,
      "outputs": []
    },
    {
      "cell_type": "markdown",
      "metadata": {
        "id": "dbdp25KxCR9W"
      },
      "source": [
        "# Instructions\n",
        "*  Complete `Conj.check`.\n",
        "*  Using `Conj`, instantiate several formulas and print their interpretation according to `i_func`. (Advice: Instantiate enough formulas to check that everything works as expected.)"
      ]
    },
    {
      "cell_type": "code",
      "metadata": {
        "id": "CuqtMxSsCPoe"
      },
      "source": [
        "# Conjunction\n",
        "class Conj(Formula):\n",
        "\t# phi: Formula\n",
        "\t# psi: Formula\n",
        "\tdef __init__(self, phi, psi):\n",
        "\t\tcheck_type(phi, Formula, \"phi\")\n",
        "\t\tcheck_type(psi, Formula, \"psi\")\n",
        "\n",
        "\t\tself._phi = phi;\n",
        "\t\tself._psi = psi;\n",
        "\n",
        "\t# Checks whether the formula is true according to the interpretation function `i_func`. This should mirror the definition of the valuation of PL.\n",
        "\t# i_func: InterpretationFunc\n",
        "\tdef check(self, i_func):\n",
        "\t\tcheck_type(i_func, InterpretationFunc, \"i_func\")\n",
        "\n",
        "\t\tpass # TODO\n",
        "\n",
        "\t# Returns the list of all (minimal) partial interpretation functions for which the valuation of the formula is the boolean value `value`.\n",
        "\t# If `value` is not specified, the default value True is used.\n",
        "\t# (If you know what an iterator is, you can return an iterator instead of a list.)\n",
        "\tdef build(self, value=True):\n",
        "\t\tcheck_type(value, bool, \"value\")\n",
        "\n",
        "\t\tpass # TODO\n",
        "\n",
        "\t# Returns a string representation of the object. Used to print the object in a readable way.\n",
        "\tdef __str__(self):\n",
        "\t\treturn f\"({self._phi} ∧ {self._psi})\""
      ],
      "execution_count": null,
      "outputs": []
    },
    {
      "cell_type": "code",
      "source": [],
      "metadata": {
        "id": "YNtaRyiAUclv"
      },
      "execution_count": null,
      "outputs": []
    },
    {
      "cell_type": "markdown",
      "metadata": {
        "id": "Q2twbkwZC7qF"
      },
      "source": [
        "## 2) Model building"
      ]
    },
    {
      "cell_type": "markdown",
      "metadata": {
        "id": "EBbOKEm7Cfnw"
      },
      "source": [
        "*  To compute which interpretation functions (i.e. models) make true a given formula, we are going to use *partial* interpretation functions.\n",
        "*  We use a partial interpretation function to represent the conditions that are minimally *sufficient* to make a given formula true (or false). A list of such functions represents a disjunction of conditions. We use such a list to represent the *necessary and sufficient* conditions to make a given formula true (or false).\n",
        "*  Examples:\n",
        "   *  The atomic formula p is made true by any interpretation function that sends p to True. The set of all these interpretation functions is here represented as the partial interpretation function that sends p to True. (We use a list of length 1.)\n",
        "   *  Formula p ∨ ¬q is made true by any function that sends p to True and by any function that sends q to False. The set of all these functions is here represented with two partial functions: one that sends p to True and one that q to False. (We use a list of length 2.)\n",
        "   *  Formula p ∧ ¬q is made true by any function that sends p to True and q to False. The set of all these functions is here represented as the partial interpretation function that sends p to True and q to False. (We use a list of size 1.)\n",
        "   *  Formula p ∧ ¬p is made true by no function. The empty set is here represented without any partial interpretation function. (We use a list of size 0.)\n",
        "   *  Formula p ∨ ¬p is made true by all interpretation functions, but equivalently, one can say that it is made true by any function that sends p to True and by any function that sends p to False. The set of all these functions is here represented with two partial functions: one that sends p to True and one that p to False. (We use a list of length 2.)\n",
        "*  A partial interpretation function can be instantiated\n",
        "   *  either directly — using the constructor (i.e. the `__init__` method) — from a dictionary that associates boolean values to strings (that represents propositional letters),\n",
        "   *  or — using the `merge` method — from two compatible interpretation functions that are then merged (\"compatible\" means that they do not disagree on the interpretation of any propositional letter)."
      ]
    },
    {
      "cell_type": "code",
      "metadata": {
        "id": "R2ltwjLLCbOy"
      },
      "source": [
        "# For partial interpretation functions. They send only some propositional letters to a truth value.\n",
        "class PartialInterpretationFunc:\n",
        "\t# dic: dictionary; keys are strings, values are booleans\n",
        "\tdef __init__(self, dic):\n",
        "\t\tcheck_type(dic, dict, \"dic\")\n",
        "\n",
        "\t\tself.dic = dic\n",
        "\n",
        "\t# Returns the partial interpretation function obtained by merging this function with `other_func`, or None if they are incompatible.\n",
        "\t# Neither partial functions are changed, a new function is created.\n",
        "\tdef merge(self, other_func):\n",
        "\t\tcheck_type(other_func, PartialInterpretationFunc, \"other_func\")\n",
        "\n",
        "\t\tdic = dict(self.dic) # Makes a copy of `self.dic`.\n",
        "\t\tfor p, v in other_func.dic.items(): # Iterates over all (propositional letter --> truth value) pairs in `other_func`.\n",
        "\t\t\tif(self.dic.get(p, v) != v): return None # If `p` is sent to a value other than `v`.\n",
        "\t\t\tdic[p] = v\n",
        "\n",
        "\t\treturn PartialInterpretationFunc(dic)\n",
        "\n",
        "\t# Remark: __call__ can be called using the ()-notation: \"i(p)\" is translated as \"i.__call__(p)\". Use the ()-notation instead of calling __call__ explicitly.\n",
        "\t# Returns the interpretation of `p`.\n",
        "\t# x: string\n",
        "\tdef __call__(self, p):\n",
        "\t\tcheck_type(p, str, \"p\")\n",
        "\n",
        "\t\treturn self.dic[p]\n",
        "\n",
        "\t# Returns a string representation of the object. Used to print the object in a readable way.\n",
        "\tdef __str__(self):\n",
        "\t\treturn str(self.dic)\n",
        "\n",
        "\t# Returns a string representation of the object. Also used to print the object in a readable way.\n",
        "\tdef __repr__(self):\n",
        "\t\treturn str(self)"
      ],
      "execution_count": null,
      "outputs": []
    },
    {
      "cell_type": "markdown",
      "metadata": {
        "id": "fg0Jqxjau7w6"
      },
      "source": [
        "# Instructions\n",
        "*   Instantiate the list of partial interpretation functions that represents the set of all interpretation functions that sends p to `True`, or q to `False`, or r to `True` (these are the necessary and sufficient conditions to make (p ∨ ¬q ∨ r) true). WARNING: If you think that it is `PartialInterpretationFunc({PLetter(\"p\"): True, PLetter(\"q\"): False, PLetter(\"r\"): True})`, then you need to go through the above examples again and very carefully. Pay attention to the difference between conjunction (∧) and disjunction (∨).\n",
        "*   Instantiate the list of partial interpretation function(s) that represents the necessary and sufficient conditions to make (p ∧ ¬q) true."
      ]
    },
    {
      "cell_type": "code",
      "metadata": {
        "id": "LSOJxTuKvLP6"
      },
      "source": [],
      "execution_count": null,
      "outputs": []
    },
    {
      "cell_type": "markdown",
      "metadata": {
        "id": "o7s0zn8LCru-"
      },
      "source": [
        "# Instructions\n",
        "*  Complete `PLetter.build`.\n",
        "*  Check that it works properly using the formula only composed of the propositional letter p."
      ]
    },
    {
      "cell_type": "code",
      "metadata": {
        "id": "LHg6FkTICwPp"
      },
      "source": [],
      "execution_count": null,
      "outputs": []
    },
    {
      "cell_type": "markdown",
      "metadata": {
        "id": "FA7E81nKCyG_"
      },
      "source": [
        "# Instructions\n",
        "*  Complete {`Neg`,`Conj`}`.build`.\n",
        "*  Instantiate (at least) five or six diverse formulas (including tautologies and contradictions) in order to check your implementation of `build`."
      ]
    },
    {
      "cell_type": "code",
      "metadata": {
        "id": "pBqr1BY7Cz6K"
      },
      "source": [],
      "execution_count": null,
      "outputs": []
    }
  ]
}